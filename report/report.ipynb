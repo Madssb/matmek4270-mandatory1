{
 "cells": [
  {
   "cell_type": "code",
   "execution_count": null,
   "metadata": {},
   "outputs": [],
   "source": []
  },
  {
   "cell_type": "markdown",
   "metadata": {},
   "source": [
    "# mandatory assignment 1\n",
    "\n",
    "we define some mesh \n",
    "$$\n",
    "\\mathbf{x} = (ih)_{i=0}^N, \\mathbf{y} = (jh)_{j=0}^N, h=L/N.\n",
    "$$\n",
    "We further define some mesh function $f(x_i,y_j) = f_{ij} $.\n",
    "Treating $f_{ij}$ like some matrix, we may define some numerical differentiation matrix $D_x^{(2)}$ representing $\\frac{\\partial^2}{\\partial x^2}$:\n",
    "$$\n",
    "D_x^{(2)} = \n",
    "\\frac{1}{h^2}\n",
    "\\begin{bmatrix}\n",
    "2 & -5 & 4 & -1 & 0 & 0 & 0 & 0 & 0 \\\\\n",
    "1 & -2 & 1 & 0 & 0 & 0 & 0 & 0 & 0 \\\\\n",
    "0 & 1 & -2 & 1 & 0 & 0 & 0 & 0 & 0 \\\\\n",
    "0 & 0 & 1 & -2 & 1 & 0 & 0 & 0 & 0 \\\\\n",
    "0 & 0 & 0 & 1 & -2 & 1 & 0 & 0 & 0 \\\\\n",
    "0 & 0 & 0 & 0 & 1 & -2 & 1 & 0 & 0 \\\\\n",
    "0 & 0 & 0 & 0 & 0 & 1 & -2 & 1 & 0 \\\\\n",
    "0 & 0 & 0 & 0 & 0 & 0 & 1 & -2 & 1 \\\\\n",
    "0 & 0 & 0 & 0 & 0 & -1 & 4 & -5 & 2 \\\\\n",
    "\\end{bmatrix}\n",
    "$$\n",
    "\n"
   ]
  }
 ],
 "metadata": {
  "language_info": {
   "name": "python"
  }
 },
 "nbformat": 4,
 "nbformat_minor": 2
}
